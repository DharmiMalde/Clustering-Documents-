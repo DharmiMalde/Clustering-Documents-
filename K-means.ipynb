{
 "cells": [
  {
   "cell_type": "code",
   "execution_count": 1,
   "metadata": {
    "id": "cJWoO6PYUVzz"
   },
   "outputs": [],
   "source": [
    "import random\n",
    "import matplotlib.pyplot as plt"
   ]
  },
  {
   "cell_type": "code",
   "execution_count": 2,
   "metadata": {
    "id": "wi-RVdYJUZuB"
   },
   "outputs": [],
   "source": [
    "from typing import Counter\n",
    "# Read the document\n",
    "def read_docword(file_path):\n",
    "    with open(file_path, 'r') as file:\n",
    "        data = file.readlines()\n",
    "    return data\n",
    "\n",
    "# Convert document into appropriate formate\n",
    "def read_data(docword_data):\n",
    "  num_docs = int(docword_data[0])\n",
    "  vocab_size = int(docword_data[1])\n",
    "  total_word_count = int(docword_data[2])\n",
    "\n",
    "  collection = []\n",
    "\n",
    "  for line in docword_data[3:]:\n",
    "    doc_id, word_id, count = map(int, line.split())\n",
    "    while len(collection) < doc_id:\n",
    "            collection.append([str(word_id)])\n",
    "    if len(collection) >= doc_id:\n",
    "      collection[doc_id - 1].append(str(word_id))\n",
    "\n",
    "  collection = [set(sublist) for sublist in collection]\n",
    "  return collection\n",
    "\n",
    "# Jaccard index calculater\n",
    "def jaccard_index(set1, set2):\n",
    "    intersection_size = len(set1.intersection(set2))\n",
    "    union_size = len(set1.union(set2))\n",
    "    jaccard_index = intersection_size / union_size if union_size != 0 else 0\n",
    "    return jaccard_index\n",
    "\n",
    "# Allocate the centroid to each set\n",
    "def allo_centroid(listA, set_B):\n",
    "  max_jaccard_index = -0.00000001\n",
    "  #print(len(listA))\n",
    "  for i in range(len(listA)):\n",
    "    set_A = listA[i]\n",
    "    jaccard = jaccard_index(set_A, set_B)\n",
    "    if jaccard > max_jaccard_index:\n",
    "      max_jaccard_index = jaccard\n",
    "      ind = i\n",
    "  return ind\n",
    "\n",
    "# K means algo\n",
    "def k_means(collection,k):\n",
    "  # Randomly select K documents\n",
    "  centroids = random.sample(collection, k)\n",
    "  #print(\"This is randomly intialised documents\", centroids)\n",
    "  # Initiate the loop based on termination condition\n",
    "  for i in range(50):\n",
    "    new_centroid = [0] * k\n",
    "    # Assingn each document a cluster\n",
    "    clusters = [[] for i in range(len(centroids))]\n",
    "    i = 0\n",
    "    for set_ in collection:\n",
    "      i = i+1\n",
    "      ind = allo_centroid(centroids,set_)\n",
    "      #print(ind)\n",
    "      clusters[ind].append(i)\n",
    "    #print(clusters)\n",
    "    # Find new centroid\n",
    "    count = 0\n",
    "    for y in clusters:\n",
    "      word_dict = {}\n",
    "      for z in y:\n",
    "        for j in collection[z-1]:\n",
    "          word_dict[j] = word_dict.get(j, 0) + 1\n",
    "\n",
    "      #print(word_dict)\n",
    "      if len(word_dict) != 0 :\n",
    "        avg = sum(word_dict.values())/len(word_dict)\n",
    "      else:\n",
    "        avg = 0\n",
    "\n",
    "      new_centroid[count] = set([key for key, value in word_dict.items() if value > avg])\n",
    "      count = count + 1\n",
    "    #print(new_centroid)\n",
    "    # termination condition\n",
    "    total_jaccard_index = 0\n",
    "    for j in range(k):\n",
    "      total_jaccard_index = total_jaccard_index + jaccard_index(centroids[j],new_centroid[j])\n",
    "    if total_jaccard_index/k >= 0.80:\n",
    "      return clusters, new_centroid\n",
    "    else:\n",
    "      centroids = new_centroid\n",
    "  return clusters, new_centroid"
   ]
  },
  {
   "cell_type": "code",
   "execution_count": 3,
   "metadata": {
    "id": "eW7Y9KyyOtUt"
   },
   "outputs": [],
   "source": [
    "docword_data_nips = read_docword('/content/docword.nips.txt')\n",
    "collection_nips = read_data(docword_data_nips)\n",
    "jagccard_nips = []\n",
    "in_nips = []\n",
    "for clu in range(2,20):\n",
    "  result_nips, centroid_nips = k_means(collection_nips, clu)\n",
    "  #print(result_nips, centroid_nips)\n",
    "  jag = 0\n",
    "  for i in range(clu):\n",
    "    for j in result_nips[i]:\n",
    "      if j != None:\n",
    "        jag = jag + jaccard_index(collection_nips[j-1],centroid_nips[i])\n",
    "  jag = jag/len(collection_nips)\n",
    "  jagccard_nips.append(jag)\n",
    "  in_nips.append(clu)"
   ]
  },
  {
   "cell_type": "code",
   "execution_count": 4,
   "metadata": {
    "colab": {
     "base_uri": "https://localhost:8080/",
     "height": 0
    },
    "id": "uv7uRTyPjM0L",
    "outputId": "ae296fd9-f804-435f-a3d4-f127c1b13a30"
   },
   "outputs": [
    {
     "data": {
      "text/plain": [
       "([0.15026901095600523,\n",
       "  0.1456006170195409,\n",
       "  0.154065943428384,\n",
       "  0.15745004870700482,\n",
       "  0.15976705019892604,\n",
       "  0.15998277033254418,\n",
       "  0.15664639961495452,\n",
       "  0.15468022438354184,\n",
       "  0.15953223977782177,\n",
       "  0.15978480154029073,\n",
       "  0.16002168716785037,\n",
       "  0.16009705142705863,\n",
       "  0.15390956055698718,\n",
       "  0.1574933372891803,\n",
       "  0.15410456688260496,\n",
       "  0.1575659737683968,\n",
       "  0.1591254992115963,\n",
       "  0.15948439442040097],\n",
       " [2, 3, 4, 5, 6, 7, 8, 9, 10, 11, 12, 13, 14, 15, 16, 17, 18, 19])"
      ]
     },
     "execution_count": 4,
     "metadata": {},
     "output_type": "execute_result"
    }
   ],
   "source": [
    "jagccard_nips, in_nips"
   ]
  },
  {
   "cell_type": "code",
   "execution_count": 6,
   "metadata": {
    "id": "JpevTQogGlx9"
   },
   "outputs": [],
   "source": [
    "docword_data_kos = read_docword('/content/docword.kos.txt')\n",
    "collection_kos = read_data(docword_data_kos)\n",
    "jagccard_kos = []\n",
    "in_kos = []\n",
    "for clu in range(2,20):\n",
    "  result_kos, centroid_kos = k_means(collection_kos, clu)\n",
    "  jag = 0\n",
    "  for i in range(clu):\n",
    "    for j in result_kos[i]:\n",
    "      if j != None:\n",
    "        jag = jag + jaccard_index(collection_kos[j-1],centroid_kos[i])\n",
    "  jag = jag/len(collection_kos)\n",
    "  jagccard_kos.append(jag)\n",
    "  in_kos.append(clu)"
   ]
  },
  {
   "cell_type": "code",
   "execution_count": 7,
   "metadata": {
    "colab": {
     "base_uri": "https://localhost:8080/",
     "height": 0
    },
    "id": "V5Gr_YG4jVN-",
    "outputId": "a35cb16f-0c61-4306-a722-765e017a2f1c"
   },
   "outputs": [
    {
     "data": {
      "text/plain": [
       "([0.04616752036905078,\n",
       "  0.04906889759174832,\n",
       "  0.049860602604199306,\n",
       "  0.0518965520294456,\n",
       "  0.053757205386722545,\n",
       "  0.06161589183665445,\n",
       "  0.056411025188495785,\n",
       "  0.059368027572339985,\n",
       "  0.05468483871701009,\n",
       "  0.06453407395009361,\n",
       "  0.05559250361934867,\n",
       "  0.06525002656624838,\n",
       "  0.057644081124539545,\n",
       "  0.0661614785514404,\n",
       "  0.05464600882315022,\n",
       "  0.05844731085975523,\n",
       "  0.05838921934495807,\n",
       "  0.057127688471376614],\n",
       " [2, 3, 4, 5, 6, 7, 8, 9, 10, 11, 12, 13, 14, 15, 16, 17, 18, 19])"
      ]
     },
     "execution_count": 7,
     "metadata": {},
     "output_type": "execute_result"
    }
   ],
   "source": [
    "jagccard_kos, in_kos"
   ]
  },
  {
   "cell_type": "code",
   "execution_count": 9,
   "metadata": {
    "id": "vVfQqyCTOuPj"
   },
   "outputs": [],
   "source": [
    "docword_data_enron = read_docword('/content/docword.enron.txt')\n",
    "collection_enron = read_data(docword_data_enron)\n",
    "jagccard_enron = []\n",
    "in_enron = []\n",
    "for clu in range(2,20):\n",
    "  result_enron, centroid_enron = k_means(collection_kos , clu)\n",
    "  jag = 0\n",
    "  for i in range(clu):\n",
    "    for j in result_enron[i]:\n",
    "      if j != None:\n",
    "        jag = jag + jaccard_index(collection_enron[j-1],centroid_enron[i])\n",
    "  jag = jag/len(collection_enron)\n",
    "  jagccard_enron.append(jag)\n",
    "  in_enron.append(clu)"
   ]
  },
  {
   "cell_type": "code",
   "execution_count": 10,
   "metadata": {
    "colab": {
     "base_uri": "https://localhost:8080/",
     "height": 0
    },
    "id": "2FMrs-11jdaA",
    "outputId": "74b77cdd-3609-4106-d622-359e7d91235c"
   },
   "outputs": [
    {
     "data": {
      "text/plain": [
       "([0.0001840232435040433,\n",
       "  0.00018146961175231354,\n",
       "  0.00018420418856836116,\n",
       "  0.0001799797788521689,\n",
       "  0.0001793541992066189,\n",
       "  0.0001887640095286957,\n",
       "  0.00018825341641614637,\n",
       "  0.0001865749025539872,\n",
       "  0.0001788839108530424,\n",
       "  0.00018210678895275574,\n",
       "  0.00018027250092437342,\n",
       "  0.00018102488646788793,\n",
       "  0.00017452256210419192,\n",
       "  0.0001884251380249932,\n",
       "  0.00018024847252889892,\n",
       "  0.00018852932402080836,\n",
       "  0.0001885812279341086,\n",
       "  0.00018062183797780765],\n",
       " [2, 3, 4, 5, 6, 7, 8, 9, 10, 11, 12, 13, 14, 15, 16, 17, 18, 19])"
      ]
     },
     "execution_count": 10,
     "metadata": {},
     "output_type": "execute_result"
    }
   ],
   "source": [
    "jagccard_enron, in_enron"
   ]
  }
 ],
 "metadata": {
  "colab": {
   "provenance": []
  },
  "kernelspec": {
   "display_name": "Python 3 (ipykernel)",
   "language": "python",
   "name": "python3"
  },
  "language_info": {
   "codemirror_mode": {
    "name": "ipython",
    "version": 3
   },
   "file_extension": ".py",
   "mimetype": "text/x-python",
   "name": "python",
   "nbconvert_exporter": "python",
   "pygments_lexer": "ipython3",
   "version": "3.8.5"
  }
 },
 "nbformat": 4,
 "nbformat_minor": 1
}
